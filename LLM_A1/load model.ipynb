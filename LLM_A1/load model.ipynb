import pandas as pd

# Load the uploaded movie dataset
file_path = 'movies.csv'
movies_df = pd.read_csv(file_path)

# Display the first few rows of the dataset to understand its structure
movies_df.head()
