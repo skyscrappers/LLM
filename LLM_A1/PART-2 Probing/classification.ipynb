{
 "cells": [
  {
   "cell_type": "code",
   "execution_count": 42,
   "metadata": {},
   "outputs": [
    {
     "name": "stderr",
     "output_type": "stream",
     "text": [
      "/home/akash/Desktop/LLM_A1/.venv/lib/python3.11/site-packages/sklearn/metrics/_classification.py:1531: UndefinedMetricWarning: Precision is ill-defined and being set to 0.0 in labels with no predicted samples. Use `zero_division` parameter to control this behavior.\n",
      "  _warn_prf(average, modifier, f\"{metric.capitalize()} is\", len(result))\n",
      "/home/akash/Desktop/LLM_A1/.venv/lib/python3.11/site-packages/sklearn/metrics/_classification.py:1531: UndefinedMetricWarning: Precision is ill-defined and being set to 0.0 in labels with no predicted samples. Use `zero_division` parameter to control this behavior.\n",
      "  _warn_prf(average, modifier, f\"{metric.capitalize()} is\", len(result))\n",
      "/home/akash/Desktop/LLM_A1/.venv/lib/python3.11/site-packages/sklearn/metrics/_classification.py:1531: UndefinedMetricWarning: Precision is ill-defined and being set to 0.0 in labels with no predicted samples. Use `zero_division` parameter to control this behavior.\n",
      "  _warn_prf(average, modifier, f\"{metric.capitalize()} is\", len(result))\n"
     ]
    },
    {
     "name": "stdout",
     "output_type": "stream",
     "text": [
      "Results for 1_classification.pkl:\n",
      "Accuracy: 0.37\n",
      "Classification Report:\n",
      "              precision    recall  f1-score   support\n",
      "\n",
      "      Action       0.00      0.00      0.00         7\n",
      "   Adventure       0.00      0.00      0.00         5\n",
      "   Animation       0.00      0.00      0.00         1\n",
      "   Biography       0.00      0.00      0.00         2\n",
      "      Comedy       0.37      1.00      0.54        22\n",
      "       Crime       0.00      0.00      0.00         2\n",
      "       Drama       0.00      0.00      0.00        11\n",
      "      Horror       0.00      0.00      0.00        10\n",
      "\n",
      "    accuracy                           0.37        60\n",
      "   macro avg       0.05      0.12      0.07        60\n",
      "weighted avg       0.13      0.37      0.20        60\n",
      "\n",
      "\n"
     ]
    },
    {
     "name": "stderr",
     "output_type": "stream",
     "text": [
      "/home/akash/Desktop/LLM_A1/.venv/lib/python3.11/site-packages/sklearn/metrics/_classification.py:1531: UndefinedMetricWarning: Precision is ill-defined and being set to 0.0 in labels with no predicted samples. Use `zero_division` parameter to control this behavior.\n",
      "  _warn_prf(average, modifier, f\"{metric.capitalize()} is\", len(result))\n",
      "/home/akash/Desktop/LLM_A1/.venv/lib/python3.11/site-packages/sklearn/metrics/_classification.py:1531: UndefinedMetricWarning: Precision is ill-defined and being set to 0.0 in labels with no predicted samples. Use `zero_division` parameter to control this behavior.\n",
      "  _warn_prf(average, modifier, f\"{metric.capitalize()} is\", len(result))\n",
      "/home/akash/Desktop/LLM_A1/.venv/lib/python3.11/site-packages/sklearn/metrics/_classification.py:1531: UndefinedMetricWarning: Precision is ill-defined and being set to 0.0 in labels with no predicted samples. Use `zero_division` parameter to control this behavior.\n",
      "  _warn_prf(average, modifier, f\"{metric.capitalize()} is\", len(result))\n"
     ]
    },
    {
     "name": "stdout",
     "output_type": "stream",
     "text": [
      "Results for 2_classification.pkl:\n",
      "Accuracy: 0.57\n",
      "Classification Report:\n",
      "              precision    recall  f1-score   support\n",
      "\n",
      "      Action       0.33      0.43      0.38         7\n",
      "   Adventure       0.00      0.00      0.00         5\n",
      "   Animation       0.00      0.00      0.00         1\n",
      "   Biography       1.00      0.50      0.67         2\n",
      "      Comedy       0.54      0.95      0.69        22\n",
      "       Crime       0.00      0.00      0.00         2\n",
      "       Drama       0.75      0.27      0.40        11\n",
      "      Horror       0.86      0.60      0.71        10\n",
      "\n",
      "    accuracy                           0.57        60\n",
      "   macro avg       0.43      0.34      0.35        60\n",
      "weighted avg       0.55      0.57      0.51        60\n",
      "\n",
      "\n",
      "Results for 3_classification.pkl:\n",
      "Accuracy: 0.60\n",
      "Classification Report:\n",
      "              precision    recall  f1-score   support\n",
      "\n",
      "      Action       0.56      0.71      0.62         7\n",
      "   Adventure       0.00      0.00      0.00         5\n",
      "   Animation       0.00      0.00      0.00         1\n",
      "   Biography       0.00      0.00      0.00         2\n",
      "      Comedy       0.61      1.00      0.76        22\n",
      "       Crime       0.00      0.00      0.00         2\n",
      "       Drama       0.38      0.27      0.32        11\n",
      "      Horror       0.86      0.60      0.71        10\n",
      "\n",
      "    accuracy                           0.60        60\n",
      "   macro avg       0.30      0.32      0.30        60\n",
      "weighted avg       0.50      0.60      0.53        60\n",
      "\n",
      "\n"
     ]
    },
    {
     "name": "stderr",
     "output_type": "stream",
     "text": [
      "/home/akash/Desktop/LLM_A1/.venv/lib/python3.11/site-packages/sklearn/metrics/_classification.py:1531: UndefinedMetricWarning: Precision is ill-defined and being set to 0.0 in labels with no predicted samples. Use `zero_division` parameter to control this behavior.\n",
      "  _warn_prf(average, modifier, f\"{metric.capitalize()} is\", len(result))\n",
      "/home/akash/Desktop/LLM_A1/.venv/lib/python3.11/site-packages/sklearn/metrics/_classification.py:1531: UndefinedMetricWarning: Precision is ill-defined and being set to 0.0 in labels with no predicted samples. Use `zero_division` parameter to control this behavior.\n",
      "  _warn_prf(average, modifier, f\"{metric.capitalize()} is\", len(result))\n",
      "/home/akash/Desktop/LLM_A1/.venv/lib/python3.11/site-packages/sklearn/metrics/_classification.py:1531: UndefinedMetricWarning: Precision is ill-defined and being set to 0.0 in labels with no predicted samples. Use `zero_division` parameter to control this behavior.\n",
      "  _warn_prf(average, modifier, f\"{metric.capitalize()} is\", len(result))\n"
     ]
    }
   ],
   "source": [
    "from sklearn.model_selection import train_test_split\n",
    "from sklearn.preprocessing import LabelEncoder\n",
    "from sklearn.ensemble import RandomForestClassifier\n",
    "from sklearn.metrics import classification_report, accuracy_score\n",
    "import numpy as np\n",
    "import pickle\n",
    "\n",
    "def evaluate_classification_model(embeddings_file, y, label_encoder):\n",
    "    with open(embeddings_file, 'rb') as f:\n",
    "        embeddings = pickle.load(f)\n",
    "    \n",
    "    embeddings_np = np.array(embeddings)[:300]\n",
    "    \n",
    "    X_train, X_test, y_train, y_test = train_test_split(embeddings_np, y, test_size=0.2, random_state=42)\n",
    "    \n",
    "    classifier = RandomForestClassifier(n_estimators=100, random_state=42)\n",
    "    classifier.fit(X_train, y_train)\n",
    "    \n",
    "    y_pred = classifier.predict(X_test)\n",
    "    \n",
    "    accuracy = accuracy_score(y_test, y_pred)\n",
    "    report = classification_report(\n",
    "        y_test, \n",
    "        y_pred, \n",
    "        labels=np.unique(y_test),  \n",
    "        target_names=label_encoder.classes_[np.unique(y_test)]  \n",
    "    )\n",
    "    \n",
    "    print(f\"Results for {embeddings_file}:\")\n",
    "    print(f\"Accuracy: {accuracy:.2f}\")\n",
    "    print(\"Classification Report:\")\n",
    "    print(report)\n",
    "    print()\n",
    "\n",
    "csv_file = 'classification.csv'\n",
    "classification_df = pd.read_csv(csv_file)\n",
    "\n",
    "label_encoder = LabelEncoder()\n",
    "y = label_encoder.fit_transform(classification_df['genre'][:300])\n",
    "\n",
    "evaluate_classification_model('1_classification.pkl', y, label_encoder)\n",
    "evaluate_classification_model('2_classification.pkl', y, label_encoder)\n",
    "evaluate_classification_model('3_classification.pkl', y, label_encoder)\n"
   ]
  }
 ],
 "metadata": {
  "kernelspec": {
   "display_name": ".venv",
   "language": "python",
   "name": "python3"
  },
  "language_info": {
   "codemirror_mode": {
    "name": "ipython",
    "version": 3
   },
   "file_extension": ".py",
   "mimetype": "text/x-python",
   "name": "python",
   "nbconvert_exporter": "python",
   "pygments_lexer": "ipython3",
   "version": "3.11.6"
  }
 },
 "nbformat": 4,
 "nbformat_minor": 2
}
