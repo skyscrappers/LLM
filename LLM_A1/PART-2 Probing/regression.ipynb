{
 "cells": [
  {
   "cell_type": "code",
   "execution_count": 21,
   "metadata": {},
   "outputs": [
    {
     "name": "stdout",
     "output_type": "stream",
     "text": [
      "Results for 1_regression.pkl:\n",
      "Mean Squared Error: 0.96\n",
      "Mean Absolute Error: 0.80\n",
      "R-squared: -0.01\n",
      "\n",
      "Results for 2_regression.pkl:\n",
      "Mean Squared Error: 0.57\n",
      "Mean Absolute Error: 0.55\n",
      "R-squared: 0.40\n",
      "\n",
      "Results for 3_regression.pkl:\n",
      "Mean Squared Error: 0.54\n",
      "Mean Absolute Error: 0.59\n",
      "R-squared: 0.43\n",
      "\n"
     ]
    }
   ],
   "source": [
    "from sklearn.model_selection import train_test_split\n",
    "from sklearn.linear_model import LinearRegression\n",
    "from sklearn.metrics import mean_squared_error, mean_absolute_error, r2_score\n",
    "import numpy as np\n",
    "import pickle\n",
    "import pandas as pd\n",
    "\n",
    "regression_df = pd.read_csv('regression.csv')\n",
    "y = regression_df['score'].tolist()[:380]\n",
    "\n",
    "def evaluate_regression_model(embeddings_file, y):\n",
    "    with open(embeddings_file, 'rb') as f:\n",
    "        embeddings = pickle.load(f)\n",
    "    \n",
    "    embeddings_np = np.array(embeddings)[:380]\n",
    "    \n",
    "    X_train, X_test, y_train, y_test = train_test_split(embeddings_np, y, test_size=0.2, random_state=42)\n",
    "    \n",
    "    regressor = LinearRegression()\n",
    "    regressor.fit(X_train, y_train)\n",
    "    \n",
    "    y_pred = regressor.predict(X_test)\n",
    "    \n",
    "    mse = mean_squared_error(y_test, y_pred)\n",
    "    mae = mean_absolute_error(y_test, y_pred)\n",
    "    r2 = r2_score(y_test, y_pred)\n",
    "    \n",
    "    print(f\"Results for {embeddings_file}:\")\n",
    "    print(f\"Mean Squared Error: {mse:.2f}\")\n",
    "    print(f\"Mean Absolute Error: {mae:.2f}\")\n",
    "    print(f\"R-squared: {r2:.2f}\")\n",
    "    print()\n",
    "\n",
    "# evaluate_regression_model('first_layer_embeddings.pkl', y)\n",
    "# evaluate_regression_model('mid_layer_embeddings.pkl', y)\n",
    "# evaluate_regression_model('final_layer_embeddings.pkl', y)\n",
    "evaluate_regression_model('1_regression.pkl', y)\n",
    "evaluate_regression_model('2_regression.pkl', y)\n",
    "evaluate_regression_model('3_regression.pkl', y)\n"
   ]
  }
 ],
 "metadata": {
  "kernelspec": {
   "display_name": ".venv",
   "language": "python",
   "name": "python3"
  },
  "language_info": {
   "codemirror_mode": {
    "name": "ipython",
    "version": 3
   },
   "file_extension": ".py",
   "mimetype": "text/x-python",
   "name": "python",
   "nbconvert_exporter": "python",
   "pygments_lexer": "ipython3",
   "version": "3.11.6"
  }
 },
 "nbformat": 4,
 "nbformat_minor": 2
}
