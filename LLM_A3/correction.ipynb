{
 "cells": [
  {
   "cell_type": "code",
   "execution_count": 14,
   "metadata": {},
   "outputs": [],
   "source": [
    "import pandas as pd\n",
    "\n",
    "pretrained_df = pd.read_csv(\"pretrained_predictions.csv\")\n",
    "fine_tuned_df = pd.read_csv(\"finetuned_predictions.csv\")\n",
    "\n",
    "comparison_df = pretrained_df.merge(fine_tuned_df, on=\"sample\", suffixes=(\"_pretrained\", \"_fine_tuned\"))\n",
    "\n",
    "corrected_cases = comparison_df[\n",
    "    (comparison_df[\"prediction_pretrained\"] != comparison_df[\"label_pretrained\"]) &  \n",
    "    (comparison_df[\"prediction_fine_tuned\"] == comparison_df[\"label_fine_tuned\"])   \n",
    "]\n",
    "\n",
    "not_corrected_cases = comparison_df[\n",
    "    (comparison_df[\"prediction_pretrained\"] != comparison_df[\"label_pretrained\"]) &  \n",
    "    (comparison_df[\"prediction_fine_tuned\"] != comparison_df[\"label_fine_tuned\"])    \n",
    "]\n",
    "\n",
    "corrected_cases.to_csv(\"corrected_cases.csv\", index=False)\n",
    "not_corrected_cases.to_csv(\"not_corrected_cases.csv\", index=False)\n",
    "\n",
    "print(f\"Corrected cases saved to corrected_cases.csv\")\n",
    "print(f\"Not corrected cases saved to not_corrected_cases.csv\")\n"
   ]
  }
 ],
 "metadata": {
  "kernelspec": {
   "display_name": "base",
   "language": "python",
   "name": "python3"
  },
  "language_info": {
   "codemirror_mode": {
    "name": "ipython",
    "version": 3
   },
   "file_extension": ".py",
   "mimetype": "text/x-python",
   "name": "python",
   "nbconvert_exporter": "python",
   "pygments_lexer": "ipython3",
   "version": "3.11.5"
  }
 },
 "nbformat": 4,
 "nbformat_minor": 2
}
