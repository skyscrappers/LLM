{
 "cells": [
  {
   "cell_type": "code",
   "execution_count": 70,
   "metadata": {},
   "outputs": [],
   "source": [
    "import pickle\n",
    "\n",
    "with open('Llama_zeroshot.pkl', 'rb') as f:\n",
    "    llama = pickle.load(f)\n",
    "\n",
    "with open('Phi_zeroshot.pkl', 'rb') as f:\n",
    "    phi = pickle.load(f)\n",
    "\n",
    "with open('Gemma_zeroshot.pkl', 'rb') as f:\n",
    "    gemma = pickle.load(f)\n",
    "\n",
    "with open(\"llama.out\", \"w\") as file:\n",
    "    for ix, i in enumerate(llama): \n",
    "        line = i.split('\\n')[0] \n",
    "        file.write(f\"{line}\\n\")"
   ]
  },
  {
   "cell_type": "code",
   "execution_count": 86,
   "metadata": {},
   "outputs": [
    {
     "name": "stdout",
     "output_type": "stream",
     "text": [
      "1\n"
     ]
    }
   ],
   "source": [
    "import re\n",
    "with open('gemma.out', 'r') as f:\n",
    "    text = f.read()\n",
    "gemma_out = re.findall(r'[oO]ption\\s+(\\d)', text)\n",
    "print(gemma_out[99])\n",
    "\n",
    "with open('gemma_response.pkl', 'wb') as f:\n",
    "    pickle.dump(gemma_out,f)"
   ]
  },
  {
   "cell_type": "code",
   "execution_count": 87,
   "metadata": {},
   "outputs": [
    {
     "name": "stdout",
     "output_type": "stream",
     "text": [
      "2\n",
      "2\n",
      "2\n",
      "4\n",
      "4\n",
      "4\n",
      "3\n",
      "1\n",
      "4\n",
      "3\n",
      "4\n",
      "4\n",
      "4\n",
      "3\n",
      "4\n",
      "1\n",
      "1\n",
      "1\n",
      "3\n",
      "3\n",
      "3\n",
      "1\n",
      "1\n",
      "1\n",
      "1\n",
      "1\n",
      "3\n",
      "4\n",
      "1\n",
      "4\n",
      "3\n",
      "3\n",
      "2\n",
      "2\n",
      "3\n",
      "4\n",
      "2\n",
      "3\n",
      "4\n",
      "4\n",
      "1\n",
      "4\n",
      "4\n",
      "1\n",
      "4\n",
      "1\n",
      "3\n",
      "2\n",
      "4\n",
      "4\n",
      "3\n",
      "3\n",
      "3\n",
      "3\n",
      "1\n",
      "4\n",
      "3\n",
      "4\n",
      "2\n",
      "3\n",
      "3\n",
      "1\n",
      "3\n",
      "3\n",
      "4\n",
      "4\n",
      "3\n",
      "3\n",
      "3\n",
      "4\n",
      "4\n",
      "4\n",
      "1\n",
      "3\n",
      "1\n",
      "1\n",
      "4\n",
      "2\n",
      "3\n",
      "1\n",
      "2\n",
      "1\n",
      "3\n",
      "3\n",
      "3\n",
      "3\n",
      "4\n",
      "1\n",
      "4\n",
      "1\n",
      "1\n",
      "3\n",
      "2\n",
      "3\n",
      "4\n",
      "3\n",
      "1\n",
      "4\n",
      "4\n",
      "4\n"
     ]
    }
   ],
   "source": [
    "with open('phi.out', 'r') as f:\n",
    "    text1 = f.read()\n",
    "\n",
    "phi_out = re.findall(r'[oO]ption\\s+(\\d)', text1)\n",
    "for i in phi_out:\n",
    "    print(i)\n",
    "\n",
    "with open('phi_response.pkl', 'wb') as f:\n",
    "    pickle.dump(phi_out,f)"
   ]
  },
  {
   "cell_type": "code",
   "execution_count": 6,
   "metadata": {},
   "outputs": [
    {
     "name": "stdout",
     "output_type": "stream",
     "text": [
      "100\n"
     ]
    }
   ],
   "source": [
    "with open('llama.out', 'r') as f:\n",
    "    text2 = f.read()\n",
    "\n",
    "llama_out = re.findall(r'[oO]ption\\s+(\\d)', text2)\n",
    "# for i in llama_out:\n",
    "#     print(i)\n",
    "print(len(llama_out))\n",
    "\n",
    "with open('llama_response.pkl', 'wb') as f:\n",
    "    pickle.dump(llama_out,f)"
   ]
  },
  {
   "cell_type": "code",
   "execution_count": 2,
   "metadata": {},
   "outputs": [
    {
     "name": "stdout",
     "output_type": "stream",
     "text": [
      "Requirement already satisfied: datasets in /home/akash/miniconda3/lib/python3.11/site-packages (3.0.0)\n",
      "Requirement already satisfied: filelock in /home/akash/miniconda3/lib/python3.11/site-packages (from datasets) (3.16.0)\n",
      "Requirement already satisfied: numpy>=1.17 in /home/akash/miniconda3/lib/python3.11/site-packages (from datasets) (2.1.0)\n",
      "Requirement already satisfied: pyarrow>=15.0.0 in /home/akash/miniconda3/lib/python3.11/site-packages (from datasets) (17.0.0)\n",
      "Requirement already satisfied: dill<0.3.9,>=0.3.0 in /home/akash/miniconda3/lib/python3.11/site-packages (from datasets) (0.3.8)\n",
      "Requirement already satisfied: pandas in /home/akash/miniconda3/lib/python3.11/site-packages (from datasets) (2.2.2)\n",
      "Requirement already satisfied: requests>=2.32.2 in /home/akash/miniconda3/lib/python3.11/site-packages (from datasets) (2.32.3)\n",
      "Requirement already satisfied: tqdm>=4.66.3 in /home/akash/miniconda3/lib/python3.11/site-packages (from datasets) (4.66.5)\n",
      "Requirement already satisfied: xxhash in /home/akash/miniconda3/lib/python3.11/site-packages (from datasets) (3.5.0)\n",
      "Requirement already satisfied: multiprocess in /home/akash/miniconda3/lib/python3.11/site-packages (from datasets) (0.70.16)\n",
      "Requirement already satisfied: fsspec<=2024.6.1,>=2023.1.0 in /home/akash/miniconda3/lib/python3.11/site-packages (from fsspec[http]<=2024.6.1,>=2023.1.0->datasets) (2024.6.1)\n",
      "Requirement already satisfied: aiohttp in /home/akash/miniconda3/lib/python3.11/site-packages (from datasets) (3.10.5)\n",
      "Requirement already satisfied: huggingface-hub>=0.22.0 in /home/akash/miniconda3/lib/python3.11/site-packages (from datasets) (0.24.7)\n",
      "Requirement already satisfied: packaging in /home/akash/miniconda3/lib/python3.11/site-packages (from datasets) (23.1)\n",
      "Requirement already satisfied: pyyaml>=5.1 in /home/akash/miniconda3/lib/python3.11/site-packages (from datasets) (6.0.2)\n",
      "Requirement already satisfied: aiohappyeyeballs>=2.3.0 in /home/akash/miniconda3/lib/python3.11/site-packages (from aiohttp->datasets) (2.4.0)\n",
      "Requirement already satisfied: aiosignal>=1.1.2 in /home/akash/miniconda3/lib/python3.11/site-packages (from aiohttp->datasets) (1.3.1)\n",
      "Requirement already satisfied: attrs>=17.3.0 in /home/akash/miniconda3/lib/python3.11/site-packages (from aiohttp->datasets) (24.2.0)\n",
      "Requirement already satisfied: frozenlist>=1.1.1 in /home/akash/miniconda3/lib/python3.11/site-packages (from aiohttp->datasets) (1.4.1)\n",
      "Requirement already satisfied: multidict<7.0,>=4.5 in /home/akash/miniconda3/lib/python3.11/site-packages (from aiohttp->datasets) (6.1.0)\n",
      "Requirement already satisfied: yarl<2.0,>=1.0 in /home/akash/miniconda3/lib/python3.11/site-packages (from aiohttp->datasets) (1.11.1)\n",
      "Requirement already satisfied: typing-extensions>=3.7.4.3 in /home/akash/miniconda3/lib/python3.11/site-packages (from huggingface-hub>=0.22.0->datasets) (4.12.2)\n",
      "Requirement already satisfied: charset-normalizer<4,>=2 in /home/akash/miniconda3/lib/python3.11/site-packages (from requests>=2.32.2->datasets) (2.0.4)\n",
      "Requirement already satisfied: idna<4,>=2.5 in /home/akash/miniconda3/lib/python3.11/site-packages (from requests>=2.32.2->datasets) (3.4)\n",
      "Requirement already satisfied: urllib3<3,>=1.21.1 in /home/akash/miniconda3/lib/python3.11/site-packages (from requests>=2.32.2->datasets) (1.26.18)\n",
      "Requirement already satisfied: certifi>=2017.4.17 in /home/akash/miniconda3/lib/python3.11/site-packages (from requests>=2.32.2->datasets) (2024.7.4)\n",
      "Requirement already satisfied: python-dateutil>=2.8.2 in /home/akash/miniconda3/lib/python3.11/site-packages (from pandas->datasets) (2.9.0)\n",
      "Requirement already satisfied: pytz>=2020.1 in /home/akash/miniconda3/lib/python3.11/site-packages (from pandas->datasets) (2024.1)\n",
      "Requirement already satisfied: tzdata>=2022.7 in /home/akash/miniconda3/lib/python3.11/site-packages (from pandas->datasets) (2024.1)\n",
      "Requirement already satisfied: six>=1.5 in /home/akash/miniconda3/lib/python3.11/site-packages (from python-dateutil>=2.8.2->pandas->datasets) (1.16.0)\n"
     ]
    },
    {
     "name": "stderr",
     "output_type": "stream",
     "text": [
      "/home/akash/miniconda3/lib/python3.11/site-packages/tqdm/auto.py:21: TqdmWarning: IProgress not found. Please update jupyter and ipywidgets. See https://ipywidgets.readthedocs.io/en/stable/user_install.html\n",
      "  from .autonotebook import tqdm as notebook_tqdm\n"
     ]
    }
   ],
   "source": [
    "!pip install datasets\n",
    "from datasets import load_dataset\n",
    "\n",
    "ds = load_dataset(\"cais/mmlu\", \"college_mathematics\")"
   ]
  },
  {
   "cell_type": "code",
   "execution_count": 89,
   "metadata": {},
   "outputs": [
    {
     "name": "stdout",
     "output_type": "stream",
     "text": [
      "{'question': 'Suppose A and B are n x n invertible matrices, where n > 1, and I is the n x n identity matrix. If A and B are similar matrices, which of the following statements must be true?\\tI. A - 2I and B - 2I are similar matrices. II. A and B have the same trace.\\t III. A^-1 and B^-1 are similar matrices.', 'subject': 'college_mathematics', 'choices': ['I only', 'II only', 'III only', 'I, II, and III'], 'answer': 3}\n"
     ]
    }
   ],
   "source": [
    "print(ds['test'][34])"
   ]
  },
  {
   "cell_type": "code",
   "execution_count": 7,
   "metadata": {},
   "outputs": [
    {
     "name": "stdout",
     "output_type": "stream",
     "text": [
      "gemma:  31\n",
      "phi:  33\n",
      "llama:  35\n"
     ]
    }
   ],
   "source": [
    "c=0\n",
    "d=0\n",
    "e=0\n",
    "for i in range(len(ds['test'])):\n",
    "    if str(ds['test'][i]['answer'])==str(int(gemma_out[i])-1):\n",
    "        c+=1\n",
    "    if str(ds['test'][i]['answer'])==str(int(phi_out[i])-1):\n",
    "        d+=1\n",
    "    if str(ds['test'][i]['answer'])==str(int(llama_out[i])-1):\n",
    "        e+=1\n",
    "print(\"gemma: \",c)\n",
    "print(\"phi: \",d)\n",
    "print(\"llama: \",e)"
   ]
  }
 ],
 "metadata": {
  "kernelspec": {
   "display_name": "base",
   "language": "python",
   "name": "python3"
  },
  "language_info": {
   "codemirror_mode": {
    "name": "ipython",
    "version": 3
   },
   "file_extension": ".py",
   "mimetype": "text/x-python",
   "name": "python",
   "nbconvert_exporter": "python",
   "pygments_lexer": "ipython3",
   "version": "3.11.5"
  }
 },
 "nbformat": 4,
 "nbformat_minor": 2
}
