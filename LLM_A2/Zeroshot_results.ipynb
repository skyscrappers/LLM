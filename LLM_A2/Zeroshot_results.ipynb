{
 "cells": [
  {
   "cell_type": "code",
   "execution_count": 3,
   "metadata": {},
   "outputs": [
    {
     "name": "stdout",
     "output_type": "stream",
     "text": [
      "['option 3: k = n = 1\\n\\nThe equation has one real solution in the interval', 'option 3\\n\\nThe property is satisfied if and only if G is a cyclic group of order ', 'option 2, n = 1 and r = 7\\n\\nThe null space n consists of', 'option 1\\n\\nThe shortest distance from the curve xy = 8 to the origin is 4', 'option 1\\n\\nThe probability of selecting 2 damaged suitcases out of 25 is 2', '**option 3**\\n\\nThe identity under addition modulo 10 is not applicable to the ring', 'option 1\\n\\nThe top end of the ladder is sliding downward at the moment the top end is', 'option 3\\n\\nThe probability that the three smaller segments could form the sides of a triangle is ', 'option 3\\n\\nThe property of a linear transformation that P^2 = P is only true if', 'option 1\\n\\nThe answer is option 1. Every compact space is complete.', 'option 1\\n\\nA complete graph with 10 vertices has 25 edges.', 'option 2: 15/64\\n\\nThe probability that the value of at least one', 'option 1\\n\\nThe dimension of the subspace V intersect W cannot be 0.', 'option 2\\n\\nThe class needs to be divided into 7 teams, each containing 1 student', 'option 1\\n\\nThe probability that neither integer chosen will be the square of the other is 0', 'option 2: II only\\n\\nExplanation: If every continuous real-valued function defined on K is', 'option 1\\n\\nThe answer is I only.\\n\\nThe statement implies that if V has a basis', 'option 2 - -1/(4sqrt(2))\\n\\nExplanation: The work done by a', 'option 1\\n\\nThe statement I and II only is true.', 'option 1\\n\\nThe limit of x_n as n approaches infinity is 3.', 'option 2\\n\\nThe answer is II. v is also an eigenvector of A^2.', 'option 3\\n\\nThe ordinary decimal representation of the integer k! ends in exactly 99 zeros', 'option 2\\n\\nR is a division ring (that is, all elements except the additive identity have', 'option 1\\n\\nThe probability of rolling a 5 on the first roll is 1/6', 'option 3, False, True\\n\\nThe statement is false because the limit of the ratio of two', 'Option 4. III only\\n\\nThe structure (Z, •) is not a group since not', 'option 3\\n\\nExplanation: Since the two work in alternating 2-day shifts, they will', 'option 3\\n\\nThe greatest possible area of a triangular region with one vertex at the center of a', 'option 2\\n\\nExplanation: f has all of its relative extrema on the parabola x = y^', 'option 3\\n\\nThe largest order of an element in the group of permutations of 5 objects is', 'option 1: S(n0 + 1) is not true.', 'option 2: (3/7, 3/14, 9/14', 'option 2\\n\\nThe answer is for 3, 5, 7, and 1', 'option 2\\n\\nA tree with 5 vertices is a connected graph with no cycles, so it', 'option 1\\n\\nThe answer is I. A - 2I and B - 2I', 'option 2: (x^2 + y^2 + z^2)^2 = ', 'option 3\\n\\nThe equation of the line tangent to the graph of y = x + e^', 'option 3\\n\\nThe subspace kernel of T is a subspace of V consisting of all vectors that are', 'option 3: False, True', 'option 3\\n\\nA convex 10-gon in the Euclidean plane has 3 acute angles', 'option 1\\n\\nThe imaginary axis is mapped onto the entire real axis.', 'option 2\\n\\nExplanation: A group G in which (ab)^2 = a^2b', 'option 3\\n\\nThe function is continuously differentiable and f(3) = 5, so the', 'option 3\\n\\nThe trace of AB is the product of the traces of A and B.', 'option 4\\n\\nThe units digit in the standard decimal expansion of the number 7^25', 'option 1, True', 'option 1\\n\\nThe region bounded by the curves y = x and y = x^2 in', 'option 3\\n\\nThe length of the curve can be found by evaluating the integral of the square root', 'option 3\\n\\nThe interval (I) and (IV) are the only valid intervals of convergence', 'option 3\\n\\nThe function can be nondifferentiable at every point in an uncountable set', 'option 3\\n\\nThe graph of x^(log y) = y^log x is a ray', 'option 3\\n\\nThe norm ||x||_p expressable as an inner product if p >=', 'option 3: f is continuous.\\n\\nA function f between two topological spaces is continuous if for', 'option 3\\n\\nThe area of an equilateral triangle with a circle inscribed in it is given by the', 'option 3\\n\\nExplanation: A abelian group of order n up to isomorphism has exactly two subgroups of', 'option 3: |x| = 0 if and only if x = 0\\n\\nExplanation', 'option 1\\n\\nThe dimension of the vector space of real polynomials of degree at most 3 is', 'option 3\\n\\nThe subspace V intersect W will be a subspace of dimension 0 or 1', 'option 1\\n\\nThe area between the two curves from x = 0 to x = a is', 'option 1\\n\\nThe answer is 9.\\n\\nThe question asks for the value of f(', 'option 3\\n\\nThe polynomial has 3 real roots.', 'option 1\\n\\nThe answer is 20!/2^(10)\\n\\nExplanation: The', 'option 2\\n\\nThe statement describes that it is possible to place a linear order relation on the complex', 'option 1\\n\\nThe probability that the player who makes the first toss wins the game is 1', 'option 3\\n\\nThe answer is 3. The other options are all groups under the specified operations', 'option 3\\n\\nThe question is asking for a number that is divisible by 11, so', 'option 4\\n\\nThe minimum value of the expression x + 4z as a function defined on', 'option 3\\n\\nThe ideal {x : x \\\\in U and x \\\\in V} is', 'option 3\\n\\nThe volume of the solid generated is π.', 'option 3\\n\\nExplanation: 10^(10^(10)) = 10', 'option 3\\n\\nThe volume of a cone is V = (π/3)*r^2', '**option 3: The sum of any two solutions is a solution.**', 'option 2\\n\\nExplanation: The minimum value of a function is the point where the first derivative is', 'option 2: II only\\n\\nThe determinant of a matrix is a single numerical value that can be', 'option 2: 1/e\\n\\nExplanation: We can solve this differential equation by separation of', 'option 2\\n\\nThe event with the greatest probability is when the number of tails is greater than or', 'option 3: False, True', 'option 2\\n\\nThe trace of A is always 1 for a real 2 x 2', 'option 2\\n\\nThe area of the yard is x^2/8.', 'option 1, True', 'option 3\\n\\nThe set of all functions from R to {0, 1} has the', 'option 2\\n\\nExplanation: The graph of f(x) passes through the origin, so f', 'option 3\\n\\nThere are 3 structurally distinct Abelian groups of order 72.', 'option 3\\n\\nThe order of G is 35, as it contains a subgroup of order', 'option 3\\n\\nExplanation: A local maximum at a point P implies that the first derivative of the', 'option 2: If A is closed, then A = R.', 'option 2, the homogeneous system Mx = 0 has only the trivial solution.', 'option 1\\n\\nThe equation cos(97x) = x is satisfied when x = ', 'option 2\\n\\nThe ring of integers modulo 11 is a ring where the product of two', 'Option 1. G is abelian.\\n\\nA homomorphism is a function that preserves the operation of the', 'option 1\\n\\nThe sum of the two matrices is a 2 by 3 matrix with the', 'option 3\\n\\nThe statement is true as the image of f is a subset of (0,', 'option 1\\n\\nThe probability that x < y is 1/2.', 'option 3\\n\\nThe probability that 2(x + y) > 1 is equal to', 'option 4\\n\\nThe complex number (1+i)^10 is equal to 32', 'option 3\\n\\nThe intersection of two subspaces is either empty or has dimension 0 or ', 'option 2: open\\n\\nExplanation: A subset S of a topological space is open if every open', 'option 3\\n\\nThe circle with the greatest number of points of intersection with the parabola x^2', 'option 3\\n\\nThe number of subsets of X that contain exactly 4 elements is 28', 'option 1\\n\\nThe point (2, 1) is mapped to (1, 6']\n"
     ]
    }
   ],
   "source": [
    "import pickle\n",
    "\n",
    "with open('Llama_zeroshot.pkl', 'rb') as f:\n",
    "    llama = pickle.load(f)\n",
    "\n",
    "with open('Phi_zeroshot.pkl', 'rb') as f:\n",
    "    phi = pickle.load(f)\n",
    "\n",
    "with open('Gemma_zeroshot.pkl', 'rb') as f:\n",
    "    gemma = pickle.load(f)\n",
    "\n",
    "# with open(\"llama.out\", \"w\") as file:\n",
    "#     for ix, i in enumerate(llama): \n",
    "#         line = i.split('\\n')[0] \n",
    "#         file.write(f\"{line}\\n\")\n",
    "print(gemma)"
   ]
  },
  {
   "cell_type": "code",
   "execution_count": 86,
   "metadata": {},
   "outputs": [
    {
     "name": "stdout",
     "output_type": "stream",
     "text": [
      "1\n"
     ]
    }
   ],
   "source": [
    "import re\n",
    "with open('gemma.out', 'r') as f:\n",
    "    text = f.read()\n",
    "gemma_out = re.findall(r'[oO]ption\\s+(\\d)', text)\n",
    "print(gemma_out[99])\n",
    "\n",
    "with open('gemma_response.pkl', 'wb') as f:\n",
    "    pickle.dump(gemma_out,f)"
   ]
  },
  {
   "cell_type": "code",
   "execution_count": 87,
   "metadata": {},
   "outputs": [
    {
     "name": "stdout",
     "output_type": "stream",
     "text": [
      "2\n",
      "2\n",
      "2\n",
      "4\n",
      "4\n",
      "4\n",
      "3\n",
      "1\n",
      "4\n",
      "3\n",
      "4\n",
      "4\n",
      "4\n",
      "3\n",
      "4\n",
      "1\n",
      "1\n",
      "1\n",
      "3\n",
      "3\n",
      "3\n",
      "1\n",
      "1\n",
      "1\n",
      "1\n",
      "1\n",
      "3\n",
      "4\n",
      "1\n",
      "4\n",
      "3\n",
      "3\n",
      "2\n",
      "2\n",
      "3\n",
      "4\n",
      "2\n",
      "3\n",
      "4\n",
      "4\n",
      "1\n",
      "4\n",
      "4\n",
      "1\n",
      "4\n",
      "1\n",
      "3\n",
      "2\n",
      "4\n",
      "4\n",
      "3\n",
      "3\n",
      "3\n",
      "3\n",
      "1\n",
      "4\n",
      "3\n",
      "4\n",
      "2\n",
      "3\n",
      "3\n",
      "1\n",
      "3\n",
      "3\n",
      "4\n",
      "4\n",
      "3\n",
      "3\n",
      "3\n",
      "4\n",
      "4\n",
      "4\n",
      "1\n",
      "3\n",
      "1\n",
      "1\n",
      "4\n",
      "2\n",
      "3\n",
      "1\n",
      "2\n",
      "1\n",
      "3\n",
      "3\n",
      "3\n",
      "3\n",
      "4\n",
      "1\n",
      "4\n",
      "1\n",
      "1\n",
      "3\n",
      "2\n",
      "3\n",
      "4\n",
      "3\n",
      "1\n",
      "4\n",
      "4\n",
      "4\n"
     ]
    }
   ],
   "source": [
    "with open('phi.out', 'r') as f:\n",
    "    text1 = f.read()\n",
    "\n",
    "phi_out = re.findall(r'[oO]ption\\s+(\\d)', text1)\n",
    "for i in phi_out:\n",
    "    print(i)\n",
    "\n",
    "with open('phi_response.pkl', 'wb') as f:\n",
    "    pickle.dump(phi_out,f)"
   ]
  },
  {
   "cell_type": "code",
   "execution_count": 6,
   "metadata": {},
   "outputs": [
    {
     "name": "stdout",
     "output_type": "stream",
     "text": [
      "100\n"
     ]
    }
   ],
   "source": [
    "with open('llama.out', 'r') as f:\n",
    "    text2 = f.read()\n",
    "\n",
    "llama_out = re.findall(r'[oO]ption\\s+(\\d)', text2)\n",
    "# for i in llama_out:\n",
    "#     print(i)\n",
    "print(len(llama_out))\n",
    "\n",
    "with open('llama_response.pkl', 'wb') as f:\n",
    "    pickle.dump(llama_out,f)"
   ]
  },
  {
   "cell_type": "code",
   "execution_count": 2,
   "metadata": {},
   "outputs": [
    {
     "name": "stdout",
     "output_type": "stream",
     "text": [
      "Requirement already satisfied: datasets in /home/akash/miniconda3/lib/python3.11/site-packages (3.0.0)\n",
      "Requirement already satisfied: filelock in /home/akash/miniconda3/lib/python3.11/site-packages (from datasets) (3.16.0)\n",
      "Requirement already satisfied: numpy>=1.17 in /home/akash/miniconda3/lib/python3.11/site-packages (from datasets) (2.1.0)\n",
      "Requirement already satisfied: pyarrow>=15.0.0 in /home/akash/miniconda3/lib/python3.11/site-packages (from datasets) (17.0.0)\n",
      "Requirement already satisfied: dill<0.3.9,>=0.3.0 in /home/akash/miniconda3/lib/python3.11/site-packages (from datasets) (0.3.8)\n",
      "Requirement already satisfied: pandas in /home/akash/miniconda3/lib/python3.11/site-packages (from datasets) (2.2.2)\n",
      "Requirement already satisfied: requests>=2.32.2 in /home/akash/miniconda3/lib/python3.11/site-packages (from datasets) (2.32.3)\n",
      "Requirement already satisfied: tqdm>=4.66.3 in /home/akash/miniconda3/lib/python3.11/site-packages (from datasets) (4.66.5)\n",
      "Requirement already satisfied: xxhash in /home/akash/miniconda3/lib/python3.11/site-packages (from datasets) (3.5.0)\n",
      "Requirement already satisfied: multiprocess in /home/akash/miniconda3/lib/python3.11/site-packages (from datasets) (0.70.16)\n",
      "Requirement already satisfied: fsspec<=2024.6.1,>=2023.1.0 in /home/akash/miniconda3/lib/python3.11/site-packages (from fsspec[http]<=2024.6.1,>=2023.1.0->datasets) (2024.6.1)\n",
      "Requirement already satisfied: aiohttp in /home/akash/miniconda3/lib/python3.11/site-packages (from datasets) (3.10.5)\n",
      "Requirement already satisfied: huggingface-hub>=0.22.0 in /home/akash/miniconda3/lib/python3.11/site-packages (from datasets) (0.24.7)\n",
      "Requirement already satisfied: packaging in /home/akash/miniconda3/lib/python3.11/site-packages (from datasets) (23.1)\n",
      "Requirement already satisfied: pyyaml>=5.1 in /home/akash/miniconda3/lib/python3.11/site-packages (from datasets) (6.0.2)\n",
      "Requirement already satisfied: aiohappyeyeballs>=2.3.0 in /home/akash/miniconda3/lib/python3.11/site-packages (from aiohttp->datasets) (2.4.0)\n",
      "Requirement already satisfied: aiosignal>=1.1.2 in /home/akash/miniconda3/lib/python3.11/site-packages (from aiohttp->datasets) (1.3.1)\n",
      "Requirement already satisfied: attrs>=17.3.0 in /home/akash/miniconda3/lib/python3.11/site-packages (from aiohttp->datasets) (24.2.0)\n",
      "Requirement already satisfied: frozenlist>=1.1.1 in /home/akash/miniconda3/lib/python3.11/site-packages (from aiohttp->datasets) (1.4.1)\n",
      "Requirement already satisfied: multidict<7.0,>=4.5 in /home/akash/miniconda3/lib/python3.11/site-packages (from aiohttp->datasets) (6.1.0)\n",
      "Requirement already satisfied: yarl<2.0,>=1.0 in /home/akash/miniconda3/lib/python3.11/site-packages (from aiohttp->datasets) (1.11.1)\n",
      "Requirement already satisfied: typing-extensions>=3.7.4.3 in /home/akash/miniconda3/lib/python3.11/site-packages (from huggingface-hub>=0.22.0->datasets) (4.12.2)\n",
      "Requirement already satisfied: charset-normalizer<4,>=2 in /home/akash/miniconda3/lib/python3.11/site-packages (from requests>=2.32.2->datasets) (2.0.4)\n",
      "Requirement already satisfied: idna<4,>=2.5 in /home/akash/miniconda3/lib/python3.11/site-packages (from requests>=2.32.2->datasets) (3.4)\n",
      "Requirement already satisfied: urllib3<3,>=1.21.1 in /home/akash/miniconda3/lib/python3.11/site-packages (from requests>=2.32.2->datasets) (1.26.18)\n",
      "Requirement already satisfied: certifi>=2017.4.17 in /home/akash/miniconda3/lib/python3.11/site-packages (from requests>=2.32.2->datasets) (2024.7.4)\n",
      "Requirement already satisfied: python-dateutil>=2.8.2 in /home/akash/miniconda3/lib/python3.11/site-packages (from pandas->datasets) (2.9.0)\n",
      "Requirement already satisfied: pytz>=2020.1 in /home/akash/miniconda3/lib/python3.11/site-packages (from pandas->datasets) (2024.1)\n",
      "Requirement already satisfied: tzdata>=2022.7 in /home/akash/miniconda3/lib/python3.11/site-packages (from pandas->datasets) (2024.1)\n",
      "Requirement already satisfied: six>=1.5 in /home/akash/miniconda3/lib/python3.11/site-packages (from python-dateutil>=2.8.2->pandas->datasets) (1.16.0)\n"
     ]
    },
    {
     "name": "stderr",
     "output_type": "stream",
     "text": [
      "/home/akash/miniconda3/lib/python3.11/site-packages/tqdm/auto.py:21: TqdmWarning: IProgress not found. Please update jupyter and ipywidgets. See https://ipywidgets.readthedocs.io/en/stable/user_install.html\n",
      "  from .autonotebook import tqdm as notebook_tqdm\n"
     ]
    }
   ],
   "source": [
    "!pip install datasets\n",
    "from datasets import load_dataset\n",
    "\n",
    "ds = load_dataset(\"cais/mmlu\", \"college_mathematics\")"
   ]
  },
  {
   "cell_type": "code",
   "execution_count": 89,
   "metadata": {},
   "outputs": [
    {
     "name": "stdout",
     "output_type": "stream",
     "text": [
      "{'question': 'Suppose A and B are n x n invertible matrices, where n > 1, and I is the n x n identity matrix. If A and B are similar matrices, which of the following statements must be true?\\tI. A - 2I and B - 2I are similar matrices. II. A and B have the same trace.\\t III. A^-1 and B^-1 are similar matrices.', 'subject': 'college_mathematics', 'choices': ['I only', 'II only', 'III only', 'I, II, and III'], 'answer': 3}\n"
     ]
    }
   ],
   "source": [
    "print(ds['test'][34])"
   ]
  },
  {
   "cell_type": "code",
   "execution_count": 7,
   "metadata": {},
   "outputs": [
    {
     "name": "stdout",
     "output_type": "stream",
     "text": [
      "gemma:  31\n",
      "phi:  33\n",
      "llama:  35\n"
     ]
    }
   ],
   "source": [
    "c=0\n",
    "d=0\n",
    "e=0\n",
    "for i in range(len(ds['test'])):\n",
    "    if str(ds['test'][i]['answer'])==str(int(gemma_out[i])-1):\n",
    "        c+=1\n",
    "    if str(ds['test'][i]['answer'])==str(int(phi_out[i])-1):\n",
    "        d+=1\n",
    "    if str(ds['test'][i]['answer'])==str(int(llama_out[i])-1):\n",
    "        e+=1\n",
    "print(\"gemma: \",c)\n",
    "print(\"phi: \",d)\n",
    "print(\"llama: \",e)"
   ]
  }
 ],
 "metadata": {
  "kernelspec": {
   "display_name": "base",
   "language": "python",
   "name": "python3"
  },
  "language_info": {
   "codemirror_mode": {
    "name": "ipython",
    "version": 3
   },
   "file_extension": ".py",
   "mimetype": "text/x-python",
   "name": "python",
   "nbconvert_exporter": "python",
   "pygments_lexer": "ipython3",
   "version": "3.11.5"
  }
 },
 "nbformat": 4,
 "nbformat_minor": 2
}
